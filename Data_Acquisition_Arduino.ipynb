{
  "nbformat": 4,
  "nbformat_minor": 0,
  "metadata": {
    "colab": {
      "name": "Data_Acquisition_Arduino.ipynb",
      "provenance": [],
      "collapsed_sections": [],
      "authorship_tag": "ABX9TyNU7ZRvWeEpgFXIT4yYkQ4X",
      "include_colab_link": true
    },
    "kernelspec": {
      "name": "python3",
      "display_name": "Python 3"
    },
    "language_info": {
      "name": "python"
    }
  },
  "cells": [
    {
      "cell_type": "markdown",
      "metadata": {
        "id": "view-in-github",
        "colab_type": "text"
      },
      "source": [
        "<a href=\"https://colab.research.google.com/github/ali77sina/Motion_Detection_Arduino/blob/main/Data_Acquisition_Arduino.ipynb\" target=\"_parent\"><img src=\"https://colab.research.google.com/assets/colab-badge.svg\" alt=\"Open In Colab\"/></a>"
      ]
    },
    {
      "cell_type": "markdown",
      "metadata": {
        "id": "b-B5X26lC_Us"
      },
      "source": [
        "Simple code to read the data from the COM port and save it in a file for later use. Make sure that the right COM port is chosen, and take into account the files are saved in the same directory, if no other destination is specificed. \n",
        "\n",
        "Another thing to take into account is that the Arduino writes the values in bytes, so on needs to convert this, or rather \"decode\", which will be seen in the code to do with reading the data. "
      ]
    },
    {
      "cell_type": "code",
      "metadata": {
        "id": "KlkfOGzaPnWN"
      },
      "source": [
        "#pip install pySerial to use this library if you are coding on a local machine\n",
        "pip install pySerial"
      ],
      "execution_count": null,
      "outputs": []
    },
    {
      "cell_type": "code",
      "metadata": {
        "id": "GvWmehvkDQKc"
      },
      "source": [
        "import serial\n",
        "from serial import Serial"
      ],
      "execution_count": null,
      "outputs": []
    },
    {
      "cell_type": "code",
      "metadata": {
        "id": "YGu4_qkoDtOt"
      },
      "source": [
        "#file will be saved in the format of \"filename\" + number, so if your name is \"accver\", the names\n",
        "#would be \"accver1\", \"accver2\" and so on\n",
        "filename = 'accver'\n",
        "num = 0\n",
        "s = serial.Serial('COM6') #Make sure this is the right COM port for you"
      ],
      "execution_count": null,
      "outputs": []
    },
    {
      "cell_type": "markdown",
      "metadata": {
        "id": "2INE5uwVELBA"
      },
      "source": [
        "The Arduino is printing almost 100 lines of values from the gyroscope, and then printng a \"wait\" string, meaning that the test is done and you should wait for the next test. \n",
        "\n",
        "This loop will iterate for a number of times (which you determine by setting the value for variable \"num\"), saves the values for that test in a file, and then moves to the next one. "
      ]
    },
    {
      "cell_type": "code",
      "metadata": {
        "id": "JvwccbzaEFtp"
      },
      "source": [
        "i = 0\n",
        "while 1:\n",
        "    val = s.readline()      #reads the line printed on the serial port\n",
        "    if val == b'wait\\r\\n':    #if the line reads \"wait\", \n",
        "        continue\n",
        "    else:\n",
        "        file2write=open(filename + str(num),'w')\n",
        "        num += 1\n",
        "        while(1):\n",
        "            val = s.readline()\n",
        "            if val == b'wait\\r\\n':\n",
        "                file2write.close()\n",
        "                break\n",
        "            else:\n",
        "                file2write.write(str(val))\n",
        "    if num == 10:\n",
        "        break\n",
        "    \n",
        "print(\"Acquisition Finished!\")"
      ],
      "execution_count": null,
      "outputs": []
    }
  ]
}